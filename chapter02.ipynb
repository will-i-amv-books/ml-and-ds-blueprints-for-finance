{
 "cells": [
  {
   "cell_type": "markdown",
   "metadata": {},
   "source": [
    "# CHAPTER 3 - Artificial Neural Networks"
   ]
  },
  {
   "cell_type": "markdown",
   "metadata": {},
   "source": [
    "Creating an Artificial Neural Network Model in Python\n",
    "\n"
   ]
  },
  {
   "cell_type": "code",
   "execution_count": 1,
   "metadata": {},
   "outputs": [
    {
     "name": "stderr",
     "output_type": "stream",
     "text": [
      "2022-08-25 15:31:55.901403: W tensorflow/stream_executor/platform/default/dso_loader.cc:64] Could not load dynamic library 'libcudart.so.11.0'; dlerror: libcudart.so.11.0: cannot open shared object file: No such file or directory\n",
      "2022-08-25 15:31:55.901469: I tensorflow/stream_executor/cuda/cudart_stub.cc:29] Ignore above cudart dlerror if you do not have a GPU set up on your machine.\n"
     ]
    }
   ],
   "source": [
    "from keras.models import Sequential\n",
    "from keras.layers import Dense\n",
    "import numpy as np\n"
   ]
  },
  {
   "cell_type": "code",
   "execution_count": 2,
   "metadata": {},
   "outputs": [
    {
     "name": "stderr",
     "output_type": "stream",
     "text": [
      "2022-08-25 15:31:59.392046: W tensorflow/stream_executor/platform/default/dso_loader.cc:64] Could not load dynamic library 'libcuda.so.1'; dlerror: libcuda.so.1: cannot open shared object file: No such file or directory\n",
      "2022-08-25 15:31:59.392145: W tensorflow/stream_executor/cuda/cuda_driver.cc:269] failed call to cuInit: UNKNOWN ERROR (303)\n",
      "2022-08-25 15:31:59.392182: I tensorflow/stream_executor/cuda/cuda_diagnostics.cc:156] kernel driver does not appear to be running on this host (LAPTOP-8U9O950M): /proc/driver/nvidia/version does not exist\n",
      "2022-08-25 15:31:59.392687: I tensorflow/core/platform/cpu_feature_guard.cc:193] This TensorFlow binary is optimized with oneAPI Deep Neural Network Library (oneDNN) to use the following CPU instructions in performance-critical operations:  AVX2 FMA\n",
      "To enable them in other operations, rebuild TensorFlow with the appropriate compiler flags.\n"
     ]
    }
   ],
   "source": [
    "# Creating random data\n",
    "\n",
    "X = np.random.random((1000, 10))\n",
    "Y = np.random.randint(2, size=(1000, 1))\n",
    "model = Sequential()\n"
   ]
  },
  {
   "cell_type": "code",
   "execution_count": 3,
   "metadata": {},
   "outputs": [
    {
     "data": {
      "text/plain": [
       "array([[0.50544595, 0.62915082, 0.15037467, 0.96953045, 0.81471629,\n",
       "        0.24166173, 0.77615533, 0.3965055 , 0.89480678, 0.74420858],\n",
       "       [0.34563625, 0.63040305, 0.34622504, 0.97545715, 0.65734692,\n",
       "        0.62893626, 0.91490598, 0.49507609, 0.8728839 , 0.30311794],\n",
       "       [0.48806717, 0.21355419, 0.87530256, 0.90232441, 0.7539312 ,\n",
       "        0.77704073, 0.44829055, 0.94171503, 0.15407811, 0.20066173],\n",
       "       [0.12791733, 0.00444834, 0.04528185, 0.13541671, 0.46259033,\n",
       "        0.85726296, 0.98851463, 0.89253111, 0.61177734, 0.46949643],\n",
       "       [0.53768284, 0.62285271, 0.52610569, 0.47580786, 0.98030222,\n",
       "        0.49653396, 0.95971768, 0.14477735, 0.63987873, 0.93943454]])"
      ]
     },
     "execution_count": 3,
     "metadata": {},
     "output_type": "execute_result"
    }
   ],
   "source": [
    "X[:5]"
   ]
  },
  {
   "cell_type": "code",
   "execution_count": 4,
   "metadata": {},
   "outputs": [],
   "source": [
    "# Specyfing the ANN architecture\n",
    "\n",
    "model = Sequential()\n",
    "model.add(Dense(32, input_dim=10, activation= 'relu'))\n",
    "model.add(Dense(32, activation= 'relu'))\n",
    "model.add(Dense(1, activation= 'sigmoid'))\n"
   ]
  },
  {
   "cell_type": "code",
   "execution_count": 5,
   "metadata": {},
   "outputs": [],
   "source": [
    "# Compiling the ANN with the following parameters\n",
    "\n",
    "model.compile(loss='binary_crossentropy' , optimizer='adam' , metrics=['accuracy'])\n"
   ]
  },
  {
   "cell_type": "code",
   "execution_count": 6,
   "metadata": {},
   "outputs": [
    {
     "name": "stdout",
     "output_type": "stream",
     "text": [
      "Epoch 1/10\n",
      "32/32 [==============================] - 1s 9ms/step - loss: 0.6934 - accuracy: 0.5140\n",
      "Epoch 2/10\n",
      "32/32 [==============================] - 0s 5ms/step - loss: 0.6887 - accuracy: 0.5330\n",
      "Epoch 3/10\n",
      "32/32 [==============================] - 0s 5ms/step - loss: 0.6859 - accuracy: 0.5420\n",
      "Epoch 4/10\n",
      "32/32 [==============================] - 0s 5ms/step - loss: 0.6843 - accuracy: 0.5480\n",
      "Epoch 5/10\n",
      "32/32 [==============================] - 0s 5ms/step - loss: 0.6832 - accuracy: 0.5620\n",
      "Epoch 6/10\n",
      "32/32 [==============================] - 0s 6ms/step - loss: 0.6809 - accuracy: 0.5680\n",
      "Epoch 7/10\n",
      "32/32 [==============================] - 0s 5ms/step - loss: 0.6807 - accuracy: 0.5550\n",
      "Epoch 8/10\n",
      "32/32 [==============================] - 0s 7ms/step - loss: 0.6804 - accuracy: 0.5560\n",
      "Epoch 9/10\n",
      "32/32 [==============================] - 0s 6ms/step - loss: 0.6772 - accuracy: 0.5680\n",
      "Epoch 10/10\n",
      "32/32 [==============================] - 0s 4ms/step - loss: 0.6760 - accuracy: 0.5780\n"
     ]
    },
    {
     "data": {
      "text/plain": [
       "<keras.callbacks.History at 0x7f7e0c616100>"
      ]
     },
     "execution_count": 6,
     "metadata": {},
     "output_type": "execute_result"
    }
   ],
   "source": [
    "# Training the ANN\n",
    "\n",
    "model.fit(X, Y, epochs=10, batch_size=32)\n"
   ]
  },
  {
   "cell_type": "code",
   "execution_count": 8,
   "metadata": {},
   "outputs": [],
   "source": [
    "# In this case, the training and test sets are the same, \n",
    "# in the real world they should be different\n",
    "\n",
    "X_test = X\n",
    "Y_test = Y\n"
   ]
  },
  {
   "cell_type": "code",
   "execution_count": 10,
   "metadata": {},
   "outputs": [
    {
     "name": "stdout",
     "output_type": "stream",
     "text": [
      "32/32 [==============================] - 0s 5ms/step - loss: 0.6737 - accuracy: 0.5840\n",
      "accuracy: 58.40%\n"
     ]
    }
   ],
   "source": [
    "# Then we can evaluate the performance of the model on a testing dataset\n",
    "# (in this case the performance will be good since the training and testing datasets are the same)\n",
    "\n",
    "scores = model.evaluate(X_test, Y_test)\n",
    "print(\"%s: %.2f%%\" % (model.metrics_names[1], scores[1]*100))\n"
   ]
  }
 ],
 "metadata": {
  "kernelspec": {
   "display_name": "Python 3.9.5 ('env': venv)",
   "language": "python",
   "name": "python3"
  },
  "language_info": {
   "codemirror_mode": {
    "name": "ipython",
    "version": 3
   },
   "file_extension": ".py",
   "mimetype": "text/x-python",
   "name": "python",
   "nbconvert_exporter": "python",
   "pygments_lexer": "ipython3",
   "version": "3.9.5"
  },
  "orig_nbformat": 4,
  "vscode": {
   "interpreter": {
    "hash": "f6528e074ea5553c9aa1c6e46294c5530cc358766b43dc05548c46c9aca829fd"
   }
  }
 },
 "nbformat": 4,
 "nbformat_minor": 2
}
