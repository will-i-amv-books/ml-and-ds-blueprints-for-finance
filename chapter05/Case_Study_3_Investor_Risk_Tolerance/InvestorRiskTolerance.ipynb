{
 "cells": [
  {
   "cell_type": "markdown",
   "metadata": {
    "_cell_guid": "83708667-4fdc-1563-7b3a-06b6575d2865"
   },
   "source": [
    "\n",
    "\n",
    "# Investor Risk Tolerance and Robo advisors\n",
    "\n",
    "The goal of this case study is to build a machine learning model to predict the risk tolerance or risk aversion of an investor, and use the model in a robo-advisor dashboard.\n"
   ]
  },
  {
   "cell_type": "markdown",
   "metadata": {},
   "source": [
    "## Content"
   ]
  },
  {
   "cell_type": "markdown",
   "metadata": {},
   "source": [
    "* [1. Problem Definition](#0)\n",
    "* [2. Getting Started - Load Libraries and Dataset](#1)\n",
    "    * [2.1. Load Libraries](#1.1)    \n",
    "    * [2.2. Load Dataset](#1.2)\n",
    "* [3. Data Preparation and Feature Selection](#2)\n",
    "    * [3.1. Preparing the predicted variable](#2.1)    \n",
    "    * [3.2. Feature Selection-Limit the Feature Space](#2.2)\n",
    "* [4.Evaluate Algorithms and Models](#4)        \n",
    "    * [4.1. Train/Test Split](#4.1)\n",
    "    * [4.2. Test Options and Evaluation Metrics](#4.2)\n",
    "    * [4.3. Compare Models and Algorithms](#4.3)\n",
    "* [5. Model Tuning and Grid Search](#5)  \n",
    "* [6. Finalize the Model](#6)  \n",
    "    * [6.1. Results on test dataset](#6.1)\n",
    "    * [6.2. Feature Importance](#6.1)\n",
    "    * [6.2. Feature Intuition](#6.3)\n"
   ]
  },
  {
   "cell_type": "markdown",
   "metadata": {},
   "source": [
    "<a id='0'></a>\n",
    "# 1. Problem Definition"
   ]
  },
  {
   "cell_type": "markdown",
   "metadata": {},
   "source": [
    "In the supervised regression framework used for this case study, the predicted variable is the “true” risk tolerance of an individual and the predictor variables are demographic, financial and behavioral attributes of an individual\n",
    "\n",
    "For this case study the data used is from survey of Consumer Finances which is conducted by the Federal Reserve Board. The data source is : \n",
    "https://www.federalreserve.gov/econres/scf_2009p.htm\n"
   ]
  },
  {
   "cell_type": "markdown",
   "metadata": {},
   "source": [
    "<a id='1'></a>\n",
    "# 2. Getting Started- Loading the data and python packages"
   ]
  },
  {
   "cell_type": "markdown",
   "metadata": {},
   "source": [
    "<a id='1.1'></a>\n",
    "## 2.1. Loading the python packages"
   ]
  },
  {
   "cell_type": "code",
   "execution_count": 1,
   "metadata": {
    "_cell_guid": "5d8fee34-f454-2642-8b06-ed719f0317e1"
   },
   "outputs": [
    {
     "name": "stderr",
     "output_type": "stream",
     "text": [
      "2022-09-22 08:55:22.982785: W tensorflow/stream_executor/platform/default/dso_loader.cc:64] Could not load dynamic library 'libcudart.so.11.0'; dlerror: libcudart.so.11.0: cannot open shared object file: No such file or directory\n",
      "2022-09-22 08:55:22.982878: I tensorflow/stream_executor/cuda/cudart_stub.cc:29] Ignore above cudart dlerror if you do not have a GPU set up on your machine.\n"
     ]
    }
   ],
   "source": [
    "import os\n",
    "import sys\n",
    "\n",
    "root_dir = os.path.abspath('../..')\n",
    "sys.path.append(root_dir)\n",
    "from functions import run_kfold_analysis, run_grid_search, ParamsKfold, ParamsGridSearch\n",
    "\n",
    "# Core libraries \n",
    "\n",
    "import copy \n",
    "import matplotlib.pyplot as plt\n",
    "import numpy as np\n",
    "import pandas as pd\n",
    "import pandas_datareader.data as web\n",
    "import seaborn as sns\n",
    "from pandas.plotting import scatter_matrix\n",
    "\n",
    "from sklearn.preprocessing import StandardScaler\n",
    "from sklearn.model_selection import train_test_split, KFold, cross_val_score, GridSearchCV\n",
    "from sklearn.linear_model import LinearRegression, Lasso, ElasticNet\n",
    "from sklearn.tree import DecisionTreeRegressor\n",
    "from sklearn.neighbors import KNeighborsRegressor\n",
    "from sklearn.svm import SVR\n",
    "from sklearn.ensemble import RandomForestRegressor, GradientBoostingRegressor, ExtraTreesRegressor, AdaBoostRegressor\n",
    "from sklearn.neural_network import MLPRegressor\n",
    "from sklearn.metrics import r2_score, mean_squared_error\n",
    "\n",
    "# Libraries for Deep Learning Models\n",
    "\n",
    "from keras.models import Sequential\n",
    "from keras.layers import Dense, LSTM\n",
    "from keras.optimizers import SGD\n",
    "from keras.wrappers.scikit_learn import KerasRegressor\n",
    "\n",
    "# Libraries for Statistical Models\n",
    "import statsmodels.api as sm\n",
    "\n",
    "# Libraries for Saving the Model\n",
    "from pickle import dump, load\n"
   ]
  },
  {
   "cell_type": "markdown",
   "metadata": {},
   "source": [
    "<a id='1.2'></a>\n",
    "## 2.2. Loading the Data"
   ]
  },
  {
   "cell_type": "code",
   "execution_count": 2,
   "metadata": {
    "_cell_guid": "787e35f7-bf9e-0969-8d13-a54fa87f3519",
    "scrolled": true
   },
   "outputs": [],
   "source": [
    "# # Load dataset\n",
    "\n",
    "filename = 'SCFP2009panel'\n",
    "if os.path.exists(filename + '.csv'):\n",
    "    dataset = pd.read_csv(filename + '.csv')\n",
    "else:\n",
    "    # Convert dataset to CSV for faster loading\n",
    "    dataset = pd.read_excel(filename + '.xlsx')\n",
    "    dataset.to_csv(filename + '.csv')\n"
   ]
  },
  {
   "cell_type": "code",
   "execution_count": 3,
   "metadata": {},
   "outputs": [],
   "source": [
    "# Disable the warnings\n",
    "\n",
    "import warnings\n",
    "warnings.filterwarnings('ignore')\n"
   ]
  },
  {
   "cell_type": "code",
   "execution_count": 4,
   "metadata": {},
   "outputs": [
    {
     "data": {
      "text/plain": [
       "(19285, 516)"
      ]
     },
     "execution_count": 4,
     "metadata": {},
     "output_type": "execute_result"
    }
   ],
   "source": [
    "dataset.shape"
   ]
  },
  {
   "cell_type": "markdown",
   "metadata": {},
   "source": [
    "<a id='2'></a>\n",
    "## 3. Data Preparation and Feature Selection"
   ]
  },
  {
   "cell_type": "markdown",
   "metadata": {},
   "source": [
    "<a id='2.1'></a>\n",
    "## 3.1. Preparing the predicted variable"
   ]
  },
  {
   "cell_type": "markdown",
   "metadata": {},
   "source": [
    "The dataset from \"Survey of Consumer Finances\" contains the Household's demographics, net worth, financial and non-financial assets for the same demographics in 2007 (pre-crisis) and 2009(post-crisis). \n",
    "\n",
    "We prepare the predicted variable, which is the \"true\" risk tolerance in the following steps. There are different ways of getting the \"true\" risk tolerance. The idea and the purpose of this case study is to come up with an approach to solve the behavioral finance problem using machine learning. \n",
    "\n",
    "The steps to compute the predicted variables are as follows: \n",
    "\n",
    "1) Compute the Risky asset and the riskless assets for all the individuals in the survey data. Risky and riskless assets are defined as follows: \n",
    "* **Risky assets** is investments in mutual funds, stocks, bonds, commodities, and\n",
    "real estate, and an estimate of human capital. \n",
    "* **Risk Free Assets**: checking and savings balances,certificates of deposit, and other cash balances and equivalents.\n",
    "\n",
    "2) We take the ratio of risky assets to total assets of an investor and consider that as a measure of risk tolerance of an investor. From the data of SCF, we have the data of risky and riskless assets for the individuals for 2007 and 2009. We use this data and normalise the risky assets with the stock price of 2007 vs. 2009 to get risk tolerance. \n",
    "\n",
    "* **Risk Tolerance**  just defined as the ratio of Risky Asset to Riskless Assets normalised with the average S&P500 of 2007 vs 2009. \n",
    "Average S&P500 in 2007: 1478\n",
    "Average S&P500 in 2009: 948\n",
    "\n",
    "3) In a lot of literature, an intelligent investor is the one who doesn't change its risk tolerance during the change in the market. So, we consider the investors who change their risk tolerance by less than 10% between 2007 and 2009 as the intelligent investors. Of course, this is a qualitative judgement and is subject to change. However, as mentioned before more than being accurate and precise the purpose of theis case study is to demonstrate the usage of the machine learning and provide a machine learning based framework in behavioral finance and portfolio management which can be further leveraged for more detailed analysis."
   ]
  },
  {
   "cell_type": "code",
   "execution_count": 5,
   "metadata": {},
   "outputs": [],
   "source": [
    "# Average SP500 during 2007 and 2009\n",
    "Average_SP500_2007 = 1478\n",
    "Average_SP500_2009 = 948\n",
    "\n",
    "# Risk Tolerance 2007\n",
    "dataset['RiskFree07'] = dataset['LIQ07'] + dataset['CDS07'] + dataset['SAVBND07'] + dataset['CASHLI07']\n",
    "dataset['Risky07'] = dataset['NMMF07'] + dataset['STOCKS07'] + dataset['BOND07'] \n",
    "dataset['RT07'] = dataset['Risky07'] / (dataset['Risky07'] + dataset['RiskFree07'])\n",
    "\n",
    "# Risk Tolerance 2009\n",
    "dataset['RiskFree09']= dataset['LIQ09'] + dataset['CDS09'] + dataset['SAVBND09'] + dataset['CASHLI09']\n",
    "dataset['Risky09'] = dataset['NMMF09'] + dataset['STOCKS09'] + dataset['BOND09'] \n",
    "dataset['RT09'] = (dataset['Risky09'] / (dataset['Risky09'] + dataset['RiskFree09'])) * (Average_SP500_2009 / Average_SP500_2007)\n"
   ]
  },
  {
   "cell_type": "code",
   "execution_count": 6,
   "metadata": {},
   "outputs": [
    {
     "data": {
      "text/html": [
       "<div>\n",
       "<style scoped>\n",
       "    .dataframe tbody tr th:only-of-type {\n",
       "        vertical-align: middle;\n",
       "    }\n",
       "\n",
       "    .dataframe tbody tr th {\n",
       "        vertical-align: top;\n",
       "    }\n",
       "\n",
       "    .dataframe thead th {\n",
       "        text-align: right;\n",
       "    }\n",
       "</style>\n",
       "<table border=\"1\" class=\"dataframe\">\n",
       "  <thead>\n",
       "    <tr style=\"text-align: right;\">\n",
       "      <th></th>\n",
       "      <th>Unnamed: 0</th>\n",
       "      <th>YY1</th>\n",
       "      <th>Y1</th>\n",
       "      <th>WGT09</th>\n",
       "      <th>AGE07</th>\n",
       "      <th>AGECL07</th>\n",
       "      <th>EDUC07</th>\n",
       "      <th>EDCL07</th>\n",
       "      <th>MARRIED07</th>\n",
       "      <th>KIDS07</th>\n",
       "      <th>...</th>\n",
       "      <th>TRANSFOTHINCPCT</th>\n",
       "      <th>PSAVINGPCT</th>\n",
       "      <th>LEVERAGEPCT</th>\n",
       "      <th>I</th>\n",
       "      <th>RiskFree07</th>\n",
       "      <th>Risky07</th>\n",
       "      <th>RT07</th>\n",
       "      <th>RiskFree09</th>\n",
       "      <th>Risky09</th>\n",
       "      <th>RT09</th>\n",
       "    </tr>\n",
       "  </thead>\n",
       "  <tbody>\n",
       "    <tr>\n",
       "      <th>0</th>\n",
       "      <td>0</td>\n",
       "      <td>1</td>\n",
       "      <td>11</td>\n",
       "      <td>11668.134198</td>\n",
       "      <td>47</td>\n",
       "      <td>3</td>\n",
       "      <td>12</td>\n",
       "      <td>2</td>\n",
       "      <td>1</td>\n",
       "      <td>0</td>\n",
       "      <td>...</td>\n",
       "      <td>0.0</td>\n",
       "      <td>93.125197</td>\n",
       "      <td>270.403054</td>\n",
       "      <td>57</td>\n",
       "      <td>7994.813847</td>\n",
       "      <td>0.0</td>\n",
       "      <td>0.0</td>\n",
       "      <td>16000</td>\n",
       "      <td>17000</td>\n",
       "      <td>0.330422</td>\n",
       "    </tr>\n",
       "    <tr>\n",
       "      <th>1</th>\n",
       "      <td>1</td>\n",
       "      <td>1</td>\n",
       "      <td>12</td>\n",
       "      <td>11823.456494</td>\n",
       "      <td>47</td>\n",
       "      <td>3</td>\n",
       "      <td>12</td>\n",
       "      <td>2</td>\n",
       "      <td>1</td>\n",
       "      <td>0</td>\n",
       "      <td>...</td>\n",
       "      <td>0.0</td>\n",
       "      <td>93.125197</td>\n",
       "      <td>249.593620</td>\n",
       "      <td>57</td>\n",
       "      <td>7994.813847</td>\n",
       "      <td>0.0</td>\n",
       "      <td>0.0</td>\n",
       "      <td>19000</td>\n",
       "      <td>18000</td>\n",
       "      <td>0.312036</td>\n",
       "    </tr>\n",
       "    <tr>\n",
       "      <th>2</th>\n",
       "      <td>2</td>\n",
       "      <td>1</td>\n",
       "      <td>13</td>\n",
       "      <td>11913.228354</td>\n",
       "      <td>47</td>\n",
       "      <td>3</td>\n",
       "      <td>12</td>\n",
       "      <td>2</td>\n",
       "      <td>1</td>\n",
       "      <td>0</td>\n",
       "      <td>...</td>\n",
       "      <td>0.0</td>\n",
       "      <td>93.125197</td>\n",
       "      <td>209.233358</td>\n",
       "      <td>57</td>\n",
       "      <td>7984.457871</td>\n",
       "      <td>0.0</td>\n",
       "      <td>0.0</td>\n",
       "      <td>13000</td>\n",
       "      <td>12000</td>\n",
       "      <td>0.307876</td>\n",
       "    </tr>\n",
       "    <tr>\n",
       "      <th>3</th>\n",
       "      <td>3</td>\n",
       "      <td>1</td>\n",
       "      <td>14</td>\n",
       "      <td>11929.394266</td>\n",
       "      <td>47</td>\n",
       "      <td>3</td>\n",
       "      <td>12</td>\n",
       "      <td>2</td>\n",
       "      <td>1</td>\n",
       "      <td>0</td>\n",
       "      <td>...</td>\n",
       "      <td>0.0</td>\n",
       "      <td>93.125197</td>\n",
       "      <td>209.273158</td>\n",
       "      <td>57</td>\n",
       "      <td>7984.457871</td>\n",
       "      <td>0.0</td>\n",
       "      <td>0.0</td>\n",
       "      <td>25000</td>\n",
       "      <td>13000</td>\n",
       "      <td>0.219429</td>\n",
       "    </tr>\n",
       "    <tr>\n",
       "      <th>4</th>\n",
       "      <td>4</td>\n",
       "      <td>1</td>\n",
       "      <td>15</td>\n",
       "      <td>11917.722907</td>\n",
       "      <td>47</td>\n",
       "      <td>3</td>\n",
       "      <td>12</td>\n",
       "      <td>2</td>\n",
       "      <td>1</td>\n",
       "      <td>0</td>\n",
       "      <td>...</td>\n",
       "      <td>0.0</td>\n",
       "      <td>93.125197</td>\n",
       "      <td>232.690767</td>\n",
       "      <td>57</td>\n",
       "      <td>7994.813847</td>\n",
       "      <td>0.0</td>\n",
       "      <td>0.0</td>\n",
       "      <td>17000</td>\n",
       "      <td>12000</td>\n",
       "      <td>0.265410</td>\n",
       "    </tr>\n",
       "  </tbody>\n",
       "</table>\n",
       "<p>5 rows × 522 columns</p>\n",
       "</div>"
      ],
      "text/plain": [
       "   Unnamed: 0  YY1  Y1         WGT09  AGE07  AGECL07  EDUC07  EDCL07  \\\n",
       "0           0    1  11  11668.134198     47        3      12       2   \n",
       "1           1    1  12  11823.456494     47        3      12       2   \n",
       "2           2    1  13  11913.228354     47        3      12       2   \n",
       "3           3    1  14  11929.394266     47        3      12       2   \n",
       "4           4    1  15  11917.722907     47        3      12       2   \n",
       "\n",
       "   MARRIED07  KIDS07  ...  TRANSFOTHINCPCT  PSAVINGPCT  LEVERAGEPCT   I  \\\n",
       "0          1       0  ...              0.0   93.125197   270.403054  57   \n",
       "1          1       0  ...              0.0   93.125197   249.593620  57   \n",
       "2          1       0  ...              0.0   93.125197   209.233358  57   \n",
       "3          1       0  ...              0.0   93.125197   209.273158  57   \n",
       "4          1       0  ...              0.0   93.125197   232.690767  57   \n",
       "\n",
       "    RiskFree07  Risky07  RT07  RiskFree09  Risky09      RT09  \n",
       "0  7994.813847      0.0   0.0       16000    17000  0.330422  \n",
       "1  7994.813847      0.0   0.0       19000    18000  0.312036  \n",
       "2  7984.457871      0.0   0.0       13000    12000  0.307876  \n",
       "3  7984.457871      0.0   0.0       25000    13000  0.219429  \n",
       "4  7994.813847      0.0   0.0       17000    12000  0.265410  \n",
       "\n",
       "[5 rows x 522 columns]"
      ]
     },
     "execution_count": 6,
     "metadata": {},
     "output_type": "execute_result"
    }
   ],
   "source": [
    "dataset2 = copy.deepcopy(dataset)  \n",
    "dataset.head()"
   ]
  },
  {
   "cell_type": "markdown",
   "metadata": {},
   "source": [
    "Let's compute the percentage change in risk tolerance between 2007 and 2009. "
   ]
  },
  {
   "cell_type": "code",
   "execution_count": 7,
   "metadata": {},
   "outputs": [],
   "source": [
    "dataset2['PercentageChange'] = np.abs((dataset2['RT09'] / dataset2['RT07']) - 1)\n"
   ]
  },
  {
   "cell_type": "markdown",
   "metadata": {},
   "source": [
    "Checking for the rows with null or nan values and removing them."
   ]
  },
  {
   "cell_type": "code",
   "execution_count": 8,
   "metadata": {},
   "outputs": [
    {
     "name": "stdout",
     "output_type": "stream",
     "text": [
      "Are there null values? = True\n"
     ]
    }
   ],
   "source": [
    "# Checking for any null values and removing the null values\n",
    "\n",
    "print(f'Are there null values? = {dataset2.isnull().values.any()}')"
   ]
  },
  {
   "cell_type": "code",
   "execution_count": 9,
   "metadata": {},
   "outputs": [
    {
     "name": "stdout",
     "output_type": "stream",
     "text": [
      "Are there null values? = False\n"
     ]
    }
   ],
   "source": [
    "# Drop the rows containing NA\n",
    "\n",
    "dataset2 = dataset2.dropna(axis=0)\n",
    "dataset2 = dataset2[~dataset2.isin([np.nan, np.inf, -np.inf]).any(1)]\n",
    "\n",
    "# Checking for any null values again \n",
    "\n",
    "print(f'Are there null values? = {dataset2.isnull().values.any()}')"
   ]
  },
  {
   "cell_type": "markdown",
   "metadata": {},
   "source": [
    "Let us plot the risk tolerance of 2007 and 2009. "
   ]
  },
  {
   "cell_type": "code",
   "execution_count": 10,
   "metadata": {},
   "outputs": [
    {
     "data": {
      "text/plain": [
       "<AxesSubplot:xlabel='RT07'>"
      ]
     },
     "execution_count": 10,
     "metadata": {},
     "output_type": "execute_result"
    },
    {
     "data": {
      "image/png": "[encoded data removed]",
      "text/plain": [
       "<Figure size 640x480 with 1 Axes>"
      ]
     },
     "metadata": {},
     "output_type": "display_data"
    }
   ],
   "source": [
    "sns.distplot(\n",
    "    dataset2['RT07'], \n",
    "    hist=True, \n",
    "    kde=False, \n",
    "    bins=int(180 / 5), \n",
    "    color='blue',\n",
    "    hist_kws={'edgecolor':'black'}\n",
    ")\n"
   ]
  },
  {
   "cell_type": "markdown",
   "metadata": {},
   "source": [
    "Looking at the risk tolerance of 2007, we see that a significant number of individuals had risk tolerance close to one.Meaning the investment ws more skewed towards the risky assets as compared to the riskless assets. Now let us look at the risk tolerance of 2009."
   ]
  },
  {
   "cell_type": "code",
   "execution_count": 11,
   "metadata": {},
   "outputs": [
    {
     "data": {
      "text/plain": [
       "<AxesSubplot:xlabel='RT09'>"
      ]
     },
     "execution_count": 11,
     "metadata": {},
     "output_type": "execute_result"
    },
    {
     "data": {
      "image/png": "[encoded data removed]",
      "text/plain": [
       "<Figure size 640x480 with 1 Axes>"
      ]
     },
     "metadata": {},
     "output_type": "display_data"
    }
   ],
   "source": [
    "sns.distplot(\n",
    "    dataset2['RT09'], \n",
    "    hist=True, \n",
    "    kde=False, \n",
    "    bins=int(180 / 5), \n",
    "    color='blue',\n",
    "    hist_kws={'edgecolor':'black'}\n",
    ")\n"
   ]
  },
  {
   "cell_type": "code",
   "execution_count": 12,
   "metadata": {},
   "outputs": [],
   "source": [
    "dataset3 = copy.deepcopy(dataset2)\n"
   ]
  },
  {
   "cell_type": "markdown",
   "metadata": {},
   "source": [
    "Clearly, the behavior of the individuals reversed in 2009 after crisis and majority of the investment was in risk free assets. Overall risk tolerance decreased, which is shown by majority of risk tolerance being close to 0 in 2009. \n",
    "In the next step we pick the intelligent investors whose risk tolerance change between 2007 and 2009 was less than 10%"
   ]
  },
  {
   "cell_type": "code",
   "execution_count": 13,
   "metadata": {},
   "outputs": [],
   "source": [
    "dataset3 = dataset3[dataset3['PercentageChange'] <= 0.1]\n"
   ]
  },
  {
   "cell_type": "markdown",
   "metadata": {},
   "source": [
    "We assign the true risk tolerance as the average risk tolerance of these intelligent investors between 2007 and 2009. This is the predicted variable for this case study. The purpose would be to predict the true risk tolerance of an individuals given the demographic, financial and willingness to take risk related features. "
   ]
  },
  {
   "cell_type": "code",
   "execution_count": 14,
   "metadata": {},
   "outputs": [],
   "source": [
    "dataset3['TrueRiskTolerance'] = (dataset3['RT07'] + dataset3['RT09']) / 2\n"
   ]
  },
  {
   "cell_type": "markdown",
   "metadata": {},
   "source": [
    "Let us drop other labels which might not be needed for the prediction. "
   ]
  },
  {
   "cell_type": "code",
   "execution_count": 15,
   "metadata": {},
   "outputs": [],
   "source": [
    "dataset3.drop(labels=['RT07', 'RT09'], axis=1, inplace=True)\n",
    "dataset3.drop(labels=['PercentageChange'], axis=1, inplace=True)\n"
   ]
  },
  {
   "cell_type": "markdown",
   "metadata": {},
   "source": [
    "<a id='2.2'></a>\n",
    "## 3.2. Feature Selection-Limit the Feature Space "
   ]
  },
  {
   "cell_type": "markdown",
   "metadata": {},
   "source": [
    "<a id='2.2.2'></a>\n",
    "### 3.2.2.  Features elimination"
   ]
  },
  {
   "cell_type": "markdown",
   "metadata": {},
   "source": [
    "In order to filter the features further we do the following:\n",
    "1. Check the description in the Data Dictionary (https://www.federalreserve.gov/econres/files/codebk2009p.txt, https://www.federalreserve.gov/econresdata/scf/files/fedstables.macro.txt) and only keep the features that are intuitive. The description is as follows: \n",
    "\n",
    "\n",
    "* AGE: There are 6 age categories, where 1 represents age less than 35 and 6 represents age more than 75.\n",
    "* EDUC: There are 4 education categories, where 1 represents no high school and 4 represents college degree.\n",
    "* MARRIED: It represents marital status. There are two categories where 1 represents married and 2 represents unmarried. \n",
    "* OCCU: It represents occupation category. 1 represents managerial category and 4 represents unemployed.\n",
    "* KIDS: It represents number of kids. \n",
    "* NWCAT: It represents net worth category. There are 5 categories, where 1 net worth less than 25 percentile and 5 represents net worth more than 90th percentile. \n",
    "* INCCL: It represents income category. There are 5 categories, where 1 income less than 10,000 and 5 represents net worth more than 100,000\n",
    "* RISK: It represents the willingness to take risk on a scale of 1 to 4, where 1 represents highest level of willingness to take risk. \n",
    "\n",
    "2. Keep only the intuitive factors as of 2007 only and remove all the intermediate features and features related to 2009, as the variables of 2007 are the only ones required for predicting the risk tolerance.\n"
   ]
  },
  {
   "cell_type": "code",
   "execution_count": 16,
   "metadata": {},
   "outputs": [],
   "source": [
    "keep_list2 = [\n",
    "    'AGE07', 'EDCL07', 'MARRIED07', 'KIDS07', 'OCCAT107', \n",
    "    'INCOME07', 'RISK07', 'NETWORTH07', 'TrueRiskTolerance',\n",
    "]\n",
    "drop_list2 = [col for col in dataset3.columns if col not in keep_list2]\n",
    "dataset3.drop(labels=drop_list2, axis=1, inplace=True)\n"
   ]
  },
  {
   "cell_type": "markdown",
   "metadata": {},
   "source": [
    "Let us look at the correlation among the features."
   ]
  },
  {
   "cell_type": "code",
   "execution_count": 17,
   "metadata": {},
   "outputs": [
    {
     "data": {
      "text/plain": [
       "<AxesSubplot:title={'center':'Correlation Matrix'}>"
      ]
     },
     "execution_count": 17,
     "metadata": {},
     "output_type": "execute_result"
    },
    {
     "data": {
      "image/png": "[encoded data removed]",
      "text/plain": [
       "<Figure size 1500x1500 with 2 Axes>"
      ]
     },
     "metadata": {},
     "output_type": "display_data"
    }
   ],
   "source": [
    "# Correlation\n",
    "\n",
    "correlation = dataset3.corr()\n",
    "plt.figure(figsize=(15, 15))\n",
    "plt.title('Correlation Matrix')\n",
    "sns.heatmap(correlation, vmax=1, square=True, annot=True, cmap='cubehelix')\n"
   ]
  },
  {
   "cell_type": "markdown",
   "metadata": {},
   "source": [
    "Looking at the correlation chart above, networth and income are positively correlated with the risk tolerance.\n",
    "With more number of kids and marriage the risk tolerance decreases. As the willingness to take risk decreases the risk tolerance decreases. With age there is a positive relationship of the risk tolerance. \n",
    "\n",
    "As per the paper \"Does Risk Tolerance Decrease With Age?(Hui Wang1,Sherman Hanna)\", Relative risk aversion decreases as people age (i.e., the proportion of net wealth invested in risky assets increases as people age) when other variables are held constant.Therefore, risk tolerance increases with age. \n",
    "\n",
    "So, in summary all the variables and their relationship with risk tolerance seems intuitive. "
   ]
  },
  {
   "cell_type": "markdown",
   "metadata": {},
   "source": [
    "<a id='4'></a>\n",
    "# 4. Evaluate Algorithms and Models"
   ]
  },
  {
   "cell_type": "markdown",
   "metadata": {},
   "source": [
    "Let us evaluate the algorithms and the models. "
   ]
  },
  {
   "cell_type": "markdown",
   "metadata": {},
   "source": [
    "<a id='4.1'></a>\n",
    "## 4.1. Train Test Split"
   ]
  },
  {
   "cell_type": "markdown",
   "metadata": {},
   "source": [
    "Performing a train and test split in this step. "
   ]
  },
  {
   "cell_type": "code",
   "execution_count": 18,
   "metadata": {},
   "outputs": [],
   "source": [
    "# Split out validation dataset for the end\n",
    "\n",
    "seed = 3\n",
    "validation_size = 0.2\n",
    "Y= dataset3[\"TrueRiskTolerance\"]\n",
    "X = dataset3.loc[:, dataset3.columns != 'TrueRiskTolerance']\n",
    "X_train, X_test, Y_train, Y_test = train_test_split(X, Y, test_size=validation_size, random_state=seed)\n"
   ]
  },
  {
   "cell_type": "markdown",
   "metadata": {},
   "source": [
    "<a id='4.2'></a>\n",
    "## 4.2. Test Options and Evaluation Metrics\n"
   ]
  },
  {
   "cell_type": "markdown",
   "metadata": {},
   "source": [
    "<a id='4.3'></a>\n",
    "## 4.3. Compare Models and Algorithms"
   ]
  },
  {
   "cell_type": "markdown",
   "metadata": {},
   "source": [
    "### Regression Models"
   ]
  },
  {
   "cell_type": "code",
   "execution_count": 19,
   "metadata": {
    "_cell_guid": "772802f7-f4e4-84ee-6377-6464ab2e5da4"
   },
   "outputs": [],
   "source": [
    "num_folds = 10\n",
    "scoring = 'r2'\n",
    "models = [\n",
    "    ('LR', LinearRegression()),\n",
    "    ('LASSO', Lasso()),\n",
    "    ('EN', ElasticNet()),\n",
    "    ('KNN', KNeighborsRegressor()),\n",
    "    ('CART', DecisionTreeRegressor()),\n",
    "    ('SVR', SVR()),\n",
    "    \n",
    "    # Neural Network\n",
    "    # ('MLP', MLPRegressor()),\n",
    "    \n",
    "    #Ensable Models \n",
    "    ('ABR', AdaBoostRegressor()),\n",
    "    ('GBR', GradientBoostingRegressor()),\n",
    "    ('RFR', RandomForestRegressor()),\n",
    "    ('ETR', ExtraTreesRegressor()),\n",
    "]\n",
    "\n",
    "params_kfold = ParamsKfold(\n",
    "    models=models,\n",
    "    X_train=X_train,\n",
    "    Y_train=Y_train,\n",
    "    X_test=X_test,\n",
    "    Y_test=Y_test,\n",
    "    num_folds=num_folds,\n",
    "    scoring=scoring,\n",
    "    seed=seed,\n",
    "    shuffle=True,\n",
    ")"
   ]
  },
  {
   "cell_type": "markdown",
   "metadata": {},
   "source": [
    "### K-folds cross validation"
   ]
  },
  {
   "cell_type": "code",
   "execution_count": 20,
   "metadata": {
    "_cell_guid": "a784ab4a-eb59-98cc-76cf-b55f382d057a"
   },
   "outputs": [
    {
     "name": "stdout",
     "output_type": "stream",
     "text": [
      "LR: -0.102704 (0.179297) 0.026382 0.043532\n",
      "LASSO: -0.041555 (0.109033) 0.030011 0.055596\n",
      "EN: -0.047729 (0.108990) 0.029663 0.054448\n",
      "KNN: -0.424599 (0.141428) 0.010024 0.015660\n",
      "CART: -0.553904 (0.232652) 0.000000 0.014618\n",
      "SVR: -0.127821 (0.100887) 0.027916 0.028254\n",
      "ABR: -0.408272 (0.133157) 0.014765 0.015754\n",
      "GBR: -0.618093 (0.141000) 0.002660 0.008572\n",
      "RFR: -0.691618 (0.114577) 0.001196 0.007441\n",
      "ETR: -0.702043 (0.140837) 0.000000 0.005865\n"
     ]
    }
   ],
   "source": [
    "results_kfold = run_kfold_analysis(params_kfold)\n"
   ]
  },
  {
   "cell_type": "markdown",
   "metadata": {},
   "source": [
    "### Algorithm comparison"
   ]
  },
  {
   "cell_type": "code",
   "execution_count": 21,
   "metadata": {},
   "outputs": [
    {
     "data": {
      "image/png": "[encoded data removed]",
      "text/plain": [
       "<Figure size 1500x800 with 1 Axes>"
      ]
     },
     "metadata": {},
     "output_type": "display_data"
    }
   ],
   "source": [
    "# Compare algorithms\n",
    "\n",
    "fig = plt.figure()\n",
    "fig.suptitle('Algorithm Comparison')\n",
    "ax = fig.add_subplot(111)\n",
    "plt.boxplot(results_kfold.kfold_results)\n",
    "ax.set_xticklabels(results_kfold.names)\n",
    "fig.set_size_inches(15, 8)\n",
    "plt.show()\n"
   ]
  },
  {
   "cell_type": "markdown",
   "metadata": {},
   "source": [
    "The non linear models perform better than the linear models, which means that a non linear relationship between the risk tolerance and the difference variables use to predict it. Given random forest regression is one of the best methods, we use it for further grid search. "
   ]
  },
  {
   "cell_type": "markdown",
   "metadata": {},
   "source": [
    "<a id='5'></a>\n",
    "# 5. Model Tuning and Grid Search"
   ]
  },
  {
   "cell_type": "markdown",
   "metadata": {
    "_cell_guid": "848ca488-b0fd-8e93-2e68-23d32c71d89c"
   },
   "source": [
    "Given that the Random Forest is the best model, Grid Search is performed on Random Forest."
   ]
  },
  {
   "cell_type": "code",
   "execution_count": 22,
   "metadata": {},
   "outputs": [
    {
     "name": "stdout",
     "output_type": "stream",
     "text": [
      "Best: 0.713080 using {'n_estimators': 100}\n",
      "0.699135 (0.099212) with: {'n_estimators': 50}\n",
      "0.713080 (0.100064) with: {'n_estimators': 100}\n",
      "0.703831 (0.105159) with: {'n_estimators': 150}\n",
      "0.701300 (0.107427) with: {'n_estimators': 200}\n",
      "0.705064 (0.105538) with: {'n_estimators': 250}\n",
      "0.702619 (0.103149) with: {'n_estimators': 300}\n",
      "0.703132 (0.105414) with: {'n_estimators': 350}\n",
      "0.708283 (0.103883) with: {'n_estimators': 400}\n"
     ]
    }
   ],
   "source": [
    "params_grid_search = ParamsGridSearch(\n",
    "    model=RandomForestRegressor(),\n",
    "    params_grid={'n_estimators': [50, 100, 150, 200, 250, 300, 350, 400]},\n",
    "    X_train=X_train,\n",
    "    Y_train=Y_train,\n",
    "    X_test=X_test,\n",
    "    Y_test=Y_test,\n",
    "    num_folds=num_folds,\n",
    "    scoring=scoring,\n",
    "    seed=seed,\n",
    "    shuffle=True,\n",
    ")\n",
    "grid_search_results = run_grid_search(params_grid_search)"
   ]
  },
  {
   "cell_type": "markdown",
   "metadata": {},
   "source": [
    "<a id='6'></a>\n",
    "# 6. Finalise the Model"
   ]
  },
  {
   "cell_type": "markdown",
   "metadata": {},
   "source": [
    "Finalize Model with best parameters found during tuning step."
   ]
  },
  {
   "cell_type": "markdown",
   "metadata": {},
   "source": [
    "<a id='6.1'></a>\n",
    "## 6.1. Results on the Test Dataset"
   ]
  },
  {
   "cell_type": "code",
   "execution_count": 23,
   "metadata": {},
   "outputs": [
    {
     "data": {
      "text/html": [
       "<style>#sk-container-id-1 {color: black;background-color: white;}#sk-container-id-1 pre{padding: 0;}#sk-container-id-1 div.sk-toggleable {background-color: white;}#sk-container-id-1 label.sk-toggleable__label {cursor: pointer;display: block;width: 100%;margin-bottom: 0;padding: 0.3em;box-sizing: border-box;text-align: center;}#sk-container-id-1 label.sk-toggleable__label-arrow:before {content: \"▸\";float: left;margin-right: 0.25em;color: #696969;}#sk-container-id-1 label.sk-toggleable__label-arrow:hover:before {color: black;}#sk-container-id-1 div.sk-estimator:hover label.sk-toggleable__label-arrow:before {color: black;}#sk-container-id-1 div.sk-toggleable__content {max-height: 0;max-width: 0;overflow: hidden;text-align: left;background-color: #f0f8ff;}#sk-container-id-1 div.sk-toggleable__content pre {margin: 0.2em;color: black;border-radius: 0.25em;background-color: #f0f8ff;}#sk-container-id-1 input.sk-toggleable__control:checked~div.sk-toggleable__content {max-height: 200px;max-width: 100%;overflow: auto;}#sk-container-id-1 input.sk-toggleable__control:checked~label.sk-toggleable__label-arrow:before {content: \"▾\";}#sk-container-id-1 div.sk-estimator input.sk-toggleable__control:checked~label.sk-toggleable__label {background-color: #d4ebff;}#sk-container-id-1 div.sk-label input.sk-toggleable__control:checked~label.sk-toggleable__label {background-color: #d4ebff;}#sk-container-id-1 input.sk-hidden--visually {border: 0;clip: rect(1px 1px 1px 1px);clip: rect(1px, 1px, 1px, 1px);height: 1px;margin: -1px;overflow: hidden;padding: 0;position: absolute;width: 1px;}#sk-container-id-1 div.sk-estimator {font-family: monospace;background-color: #f0f8ff;border: 1px dotted black;border-radius: 0.25em;box-sizing: border-box;margin-bottom: 0.5em;}#sk-container-id-1 div.sk-estimator:hover {background-color: #d4ebff;}#sk-container-id-1 div.sk-parallel-item::after {content: \"\";width: 100%;border-bottom: 1px solid gray;flex-grow: 1;}#sk-container-id-1 div.sk-label:hover label.sk-toggleable__label {background-color: #d4ebff;}#sk-container-id-1 div.sk-serial::before {content: \"\";position: absolute;border-left: 1px solid gray;box-sizing: border-box;top: 0;bottom: 0;left: 50%;z-index: 0;}#sk-container-id-1 div.sk-serial {display: flex;flex-direction: column;align-items: center;background-color: white;padding-right: 0.2em;padding-left: 0.2em;position: relative;}#sk-container-id-1 div.sk-item {position: relative;z-index: 1;}#sk-container-id-1 div.sk-parallel {display: flex;align-items: stretch;justify-content: center;background-color: white;position: relative;}#sk-container-id-1 div.sk-item::before, #sk-container-id-1 div.sk-parallel-item::before {content: \"\";position: absolute;border-left: 1px solid gray;box-sizing: border-box;top: 0;bottom: 0;left: 50%;z-index: -1;}#sk-container-id-1 div.sk-parallel-item {display: flex;flex-direction: column;z-index: 1;position: relative;background-color: white;}#sk-container-id-1 div.sk-parallel-item:first-child::after {align-self: flex-end;width: 50%;}#sk-container-id-1 div.sk-parallel-item:last-child::after {align-self: flex-start;width: 50%;}#sk-container-id-1 div.sk-parallel-item:only-child::after {width: 0;}#sk-container-id-1 div.sk-dashed-wrapped {border: 1px dashed gray;margin: 0 0.4em 0.5em 0.4em;box-sizing: border-box;padding-bottom: 0.4em;background-color: white;}#sk-container-id-1 div.sk-label label {font-family: monospace;font-weight: bold;display: inline-block;line-height: 1.2em;}#sk-container-id-1 div.sk-label-container {text-align: center;}#sk-container-id-1 div.sk-container {/* jupyter's `normalize.less` sets `[hidden] { display: none; }` but bootstrap.min.css set `[hidden] { display: none !important; }` so we also need the `!important` here to be able to override the default hidden behavior on the sphinx rendered scikit-learn.org. See: https://github.com/scikit-learn/scikit-learn/issues/21755 */display: inline-block !important;position: relative;}#sk-container-id-1 div.sk-text-repr-fallback {display: none;}</style><div id=\"sk-container-id-1\" class=\"sk-top-container\"><div class=\"sk-text-repr-fallback\"><pre>RandomForestRegressor()</pre><b>In a Jupyter environment, please rerun this cell to show the HTML representation or trust the notebook. <br />On GitHub, the HTML representation is unable to render, please try loading this page with nbviewer.org.</b></div><div class=\"sk-container\" hidden><div class=\"sk-item\"><div class=\"sk-estimator sk-toggleable\"><input class=\"sk-toggleable__control sk-hidden--visually\" id=\"sk-estimator-id-1\" type=\"checkbox\" checked><label for=\"sk-estimator-id-1\" class=\"sk-toggleable__label sk-toggleable__label-arrow\">RandomForestRegressor</label><div class=\"sk-toggleable__content\"><pre>RandomForestRegressor()</pre></div></div></div></div></div>"
      ],
      "text/plain": [
       "RandomForestRegressor()"
      ]
     },
     "execution_count": 23,
     "metadata": {},
     "output_type": "execute_result"
    }
   ],
   "source": [
    "# Prepare model\n",
    "\n",
    "n_estimators = grid_search_results.best_params_['n_estimators']\n",
    "model = RandomForestRegressor(n_estimators=n_estimators)\n",
    "model.fit(X_train, Y_train)\n"
   ]
  },
  {
   "cell_type": "code",
   "execution_count": 28,
   "metadata": {},
   "outputs": [
    {
     "name": "stdout",
     "output_type": "stream",
     "text": [
      "Training parameters: \n",
      "R2: 0.9636256395273358\n"
     ]
    }
   ],
   "source": [
    "Y_train_predicted = model.predict(X_train)\n",
    "print('Training parameters: ')\n",
    "print(f'R2: {r2_score(Y_train, Y_train_predicted)}')\n"
   ]
  },
  {
   "cell_type": "code",
   "execution_count": 25,
   "metadata": {
    "_cell_guid": "f9725666-3c21-69d1-ddf6-45e47d982444"
   },
   "outputs": [
    {
     "name": "stdout",
     "output_type": "stream",
     "text": [
      "Testing parameters: \n",
      "Mean Square Error: 0.007450856476830163\n",
      "R2: 0.7715957057851409\n"
     ]
    }
   ],
   "source": [
    "# Estimate accuracy on validation set\n",
    "\n",
    "#rescaledValidationX = scaler.transform(X_test)\n",
    "Y_test_predicted = model.predict(X_test)\n",
    "print('Testing parameters: ')\n",
    "print(f'Mean Square Error: {mean_squared_error(Y_test, Y_test_predicted)}')\n",
    "print(f'R2: {r2_score(Y_test, Y_test_predicted)}')\n"
   ]
  },
  {
   "cell_type": "markdown",
   "metadata": {},
   "source": [
    "From the mean square error and R2 shown above for the test set, the results look good. "
   ]
  },
  {
   "cell_type": "markdown",
   "metadata": {},
   "source": [
    "<a id='6.2'></a>\n",
    "## 6.2. Feature Importance and Features Intuition"
   ]
  },
  {
   "cell_type": "markdown",
   "metadata": {},
   "source": [
    "Looking at the details above Random forest be worthy of further study.\n",
    "Let us look into the Feature Importance of the RF model"
   ]
  },
  {
   "cell_type": "code",
   "execution_count": 26,
   "metadata": {},
   "outputs": [
    {
     "name": "stdout",
     "output_type": "stream",
     "text": [
      "[0.21604924 0.02528631 0.01377908 0.04632521 0.02373284 0.22941418\n",
      " 0.05656566 0.38884747]\n"
     ]
    },
    {
     "data": {
      "image/png": "[encoded data removed]",
      "text/plain": [
       "<Figure size 640x480 with 1 Axes>"
      ]
     },
     "metadata": {},
     "output_type": "display_data"
    }
   ],
   "source": [
    "model = RandomForestRegressor(n_estimators=n_estimators, n_jobs=-1)\n",
    "model.fit(X_train, Y_train)\n",
    "print(model.feature_importances_) # Use inbuilt class feature_importances of tree based classifiers\n",
    "\n",
    "# Plot graph of feature importances for better visualization\n",
    "feat_importances = pd.Series(model.feature_importances_, index=X.columns)\n",
    "feat_importances.nlargest(10).plot(kind='barh')\n",
    "plt.show()\n"
   ]
  },
  {
   "cell_type": "markdown",
   "metadata": {},
   "source": [
    "From the chart above, income and networth followed by age and willingness to take risk are the key variables to decide the risk tolerance. These variables have been considered as the key variables to model the risk tolerance across several literature. "
   ]
  },
  {
   "cell_type": "markdown",
   "metadata": {},
   "source": [
    "<a id='6.3'></a>\n",
    "## 6.3. Save Model for Later Use"
   ]
  },
  {
   "cell_type": "code",
   "execution_count": 29,
   "metadata": {},
   "outputs": [],
   "source": [
    "# Save the model to disk\n",
    "\n",
    "filename = 'finalized_model.sav'\n",
    "dump(model, open(filename, 'wb'))"
   ]
  },
  {
   "cell_type": "code",
   "execution_count": 31,
   "metadata": {},
   "outputs": [
    {
     "name": "stdout",
     "output_type": "stream",
     "text": [
      "Testing parameters from loaded model: \n",
      "Mean Square Error: 0.007407038375681046\n",
      "R2: 0.7729389396130802\n"
     ]
    }
   ],
   "source": [
    "# Load the model from disk and estimate accuracy on validation set\n",
    "\n",
    "loaded_model = load(open(filename, 'rb'))\n",
    "predictions = loaded_model.predict(X_test)\n",
    "\n",
    "print('Testing parameters from loaded model: ')\n",
    "print(f'Mean Square Error: {mean_squared_error(Y_test, predictions)}')\n",
    "print(f'R2: {r2_score(Y_test, predictions)}')\n"
   ]
  },
  {
   "cell_type": "markdown",
   "metadata": {},
   "source": [
    "__Conclusion__:\n",
    "\n",
    "We showed that machine learning models might be able to objectively\n",
    "analyze the behavior of different investors in a changing market and attribute these\n",
    "changes to variables involved in determining risk appetite. With an increase in the\n",
    "volume of investor’s data and availability of rich machine learning infrastructure,\n",
    "such models might prove to be more useful.\n",
    "\n",
    "We saw that there is a non-linear relationship between the variables and the risk tolerance. Income and net worth followed by age and willingness to take risk are the key variables to decide the risk tolerance. These variables have been considered as the key variables to model the risk tolerance across several literature.\n"
   ]
  }
 ],
 "metadata": {
  "_change_revision": 206,
  "_is_fork": false,
  "kernelspec": {
   "display_name": "Python 3.9.5 ('env': venv)",
   "language": "python",
   "name": "python3"
  },
  "language_info": {
   "codemirror_mode": {
    "name": "ipython",
    "version": 3
   },
   "file_extension": ".py",
   "mimetype": "text/x-python",
   "name": "python",
   "nbconvert_exporter": "python",
   "pygments_lexer": "ipython3",
   "version": "3.9.5"
  },
  "vscode": {
   "interpreter": {
    "hash": "f6528e074ea5553c9aa1c6e46294c5530cc358766b43dc05548c46c9aca829fd"
   }
  }
 },
 "nbformat": 4,
 "nbformat_minor": 1
}
